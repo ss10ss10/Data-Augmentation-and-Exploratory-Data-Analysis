{
 "cells": [
  {
   "cell_type": "code",
   "execution_count": null,
   "metadata": {},
   "outputs": [],
   "source": [
    "# Importing dependancies\n",
    "import numpy as np\n",
    "import pandas as pd\n",
    "from pandas_profiling import ProfileReport"
   ]
  },
  {
   "cell_type": "code",
   "execution_count": null,
   "metadata": {},
   "outputs": [],
   "source": [
    "# Reading the data from csv\n",
    "data = np.array(pd.read_csv('score.csv'))"
   ]
  },
  {
   "cell_type": "code",
   "execution_count": null,
   "metadata": {},
   "outputs": [],
   "source": [
    "# Basic arithmetic opertions on the original data to create new arrays\n",
    "data1 = np.array([x*10 for x in data])\n",
    "data2 = np.array([x/10 for x in data])\n",
    "data3 = np.array([x**2 for x in data])\n",
    "data4 = np.array([np.sqrt(x) for x in data])\n",
    "data5 = np.array([np.log10(x) for x in data])"
   ]
  },
  {
   "cell_type": "code",
   "execution_count": null,
   "metadata": {},
   "outputs": [],
   "source": [
    "# Concatinating all of the data arrays\n",
    "datacon = np.concatenate((data, data1, data2, data3, data4, data5), axis=0)"
   ]
  },
  {
   "cell_type": "code",
   "execution_count": null,
   "metadata": {},
   "outputs": [],
   "source": [
    "# Random shuffling of the concatenated data\n",
    "np.random.shuffle(datacon)"
   ]
  },
  {
   "cell_type": "code",
   "execution_count": null,
   "metadata": {},
   "outputs": [],
   "source": [
    "# Turning all of the data into DataFrames\n",
    "data = pd.DataFrame(data)\n",
    "data1 = pd.DataFrame(data1)\n",
    "data2 = pd.DataFrame(data2)\n",
    "data3 = pd.DataFrame(data3)\n",
    "data4 = pd.DataFrame(data4)\n",
    "data5 = pd.DataFrame(data5)\n",
    "datacon = pd.DataFrame(datacon)"
   ]
  },
  {
   "cell_type": "code",
   "execution_count": null,
   "metadata": {},
   "outputs": [],
   "source": [
    "# To create the profile reports for all of the data\n",
    "prt = ProfileReport(data, title='Data Profile Report')\n",
    "prt1 = ProfileReport(data1, title='Data1 Profile Report')\n",
    "prt2 = ProfileReport(data2, title='Data2 Profile Report')\n",
    "prt3 = ProfileReport(data3, title='Data3 Profile Report')\n",
    "prt4 = ProfileReport(data4, title='Data4 Profile Report')\n",
    "prt5 = ProfileReport(data5, title='Data5 Profile Report')\n",
    "prtDatacon = ProfileReport(datacon, title='Datacon Profile Report')"
   ]
  },
  {
   "cell_type": "code",
   "execution_count": null,
   "metadata": {},
   "outputs": [],
   "source": [
    "# To display report in the form of an iframe in the notebook\n",
    "prt1.to_notebook_iframe()\n",
    "prt2.to_notebook_iframe()\n",
    "prt3.to_notebook_iframe()\n",
    "prt4.to_notebook_iframe()\n",
    "prt5.to_notebook_iframe()\n",
    "prtDatacon.to_notebook_iframe()"
   ]
  },
  {
   "cell_type": "code",
   "execution_count": null,
   "metadata": {},
   "outputs": [],
   "source": [
    "# To save report in the form of an html page\n",
    "prt.to_file(\"Reports/Data_report.html\")\n",
    "prt1.to_file(\"Reports/Data1_report.html\")\n",
    "prt2.to_file(\"Reports/Data2_report.html\")\n",
    "prt3.to_file(\"Reports/Data3_report.html\")\n",
    "prt4.to_file(\"Reports/Data4_report.html\")\n",
    "prt5.to_file(\"Reports/Data5_report.html\")\n",
    "prtDatacon.to_file(\"Reports/Datacon_report.html\")\n"
   ]
  }
 ],
 "metadata": {
  "kernelspec": {
   "display_name": "Python 3.10.4 64-bit",
   "language": "python",
   "name": "python3"
  },
  "language_info": {
   "codemirror_mode": {
    "name": "ipython",
    "version": 3
   },
   "file_extension": ".py",
   "mimetype": "text/x-python",
   "name": "python",
   "nbconvert_exporter": "python",
   "pygments_lexer": "ipython3",
   "version": "3.10.4"
  },
  "orig_nbformat": 4,
  "vscode": {
   "interpreter": {
    "hash": "916dbcbb3f70747c44a77c7bcd40155683ae19c65e1c03b4aa3499c5328201f1"
   }
  }
 },
 "nbformat": 4,
 "nbformat_minor": 2
}
